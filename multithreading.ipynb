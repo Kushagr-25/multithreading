{
  "nbformat": 4,
  "nbformat_minor": 0,
  "metadata": {
    "colab": {
      "provenance": [],
      "authorship_tag": "ABX9TyNqCb1tUXPoEW1gleNCu7m1",
      "include_colab_link": true
    },
    "kernelspec": {
      "name": "python3",
      "display_name": "Python 3"
    },
    "language_info": {
      "name": "python"
    }
  },
  "cells": [
    {
      "cell_type": "markdown",
      "metadata": {
        "id": "view-in-github",
        "colab_type": "text"
      },
      "source": [
        "<a href=\"https://colab.research.google.com/github/Kushagr-25/multithreading/blob/main/multithreading.ipynb\" target=\"_parent\"><img src=\"https://colab.research.google.com/assets/colab-badge.svg\" alt=\"Open In Colab\"/></a>"
      ]
    },
    {
      "cell_type": "code",
      "execution_count": 1,
      "metadata": {
        "id": "Fr-2h8yzd8w8"
      },
      "outputs": [],
      "source": [
        "import os,sys,platform\n",
        "import numpy as np\n",
        "import pandas as pd\n",
        "import time\n",
        "import random as r\n",
        "import matplotlib.pyplot as plt"
      ]
    },
    {
      "cell_type": "code",
      "source": [
        "print(\"OS type: \",os.name)\n",
        "print(\"sys type: \",sys.platform)\n",
        "print(\"Platform: \",platform.platform())"
      ],
      "metadata": {
        "colab": {
          "base_uri": "https://localhost:8080/"
        },
        "id": "ctzglGPLeIfF",
        "outputId": "1161eef2-944a-4fcd-d26e-eb0f7d3b5fc9"
      },
      "execution_count": 2,
      "outputs": [
        {
          "output_type": "stream",
          "name": "stdout",
          "text": [
            "OS type:  posix\n",
            "sys type:  linux\n",
            "Platform:  Linux-6.1.58+-x86_64-with-glibc2.35\n"
          ]
        }
      ]
    },
    {
      "cell_type": "code",
      "source": [
        "import multiprocessing\n",
        "num_cores = multiprocessing.cpu_count()\n",
        "print(\"Number of Cores: \",num_cores)"
      ],
      "metadata": {
        "colab": {
          "base_uri": "https://localhost:8080/"
        },
        "id": "Zi_QYYxKeMQI",
        "outputId": "d6a544fb-d9fc-403c-86b4-7564f73c3316"
      },
      "execution_count": 3,
      "outputs": [
        {
          "output_type": "stream",
          "name": "stdout",
          "text": [
            "Number of Cores:  2\n"
          ]
        }
      ]
    },
    {
      "cell_type": "code",
      "source": [
        "import threading\n",
        "activeThread = threading.active_count()\n",
        "print(\"No. of active threads: \",activeThread)"
      ],
      "metadata": {
        "colab": {
          "base_uri": "https://localhost:8080/"
        },
        "id": "d9jNTR3DeO-0",
        "outputId": "a7c9eac2-9231-4a57-921e-de157182ed41"
      },
      "execution_count": 4,
      "outputs": [
        {
          "output_type": "stream",
          "name": "stdout",
          "text": [
            "No. of active threads:  5\n"
          ]
        }
      ]
    },
    {
      "cell_type": "code",
      "source": [
        "def generate_random_matrices(n, size):\n",
        "    matrices = []\n",
        "    for _ in range(n):\n",
        "        matrices.append(np.random.rand(size, size))\n",
        "    return matrices"
      ],
      "metadata": {
        "id": "FNAXYXLceRfT"
      },
      "execution_count": 5,
      "outputs": []
    },
    {
      "cell_type": "code",
      "source": [
        "def multiply_matrices(matrices, constant_matrix):\n",
        "    result = constant_matrix.copy()\n",
        "    for matrix in matrices:\n",
        "        result = np.dot(result, matrix)\n",
        "    return result"
      ],
      "metadata": {
        "id": "sz7wntkGeTiH"
      },
      "execution_count": 6,
      "outputs": []
    },
    {
      "cell_type": "code",
      "source": [
        "def perform_multiplication_with_threads(num_threads, matrices, constant_matrix):\n",
        "    start_time = time.time()\n",
        "    threads = []\n",
        "    for i in range(0, len(matrices), num_threads):\n",
        "        thread = threading.Thread(target=multiply_matrices, args=(matrices[i:i+num_threads], constant_matrix))\n",
        "        threads.append(thread)\n",
        "        thread.start()\n",
        "    for thread in threads:\n",
        "        thread.join()\n",
        "    end_time = time.time()\n",
        "    return end_time - start_time"
      ],
      "metadata": {
        "id": "TkkbR37eeVZY"
      },
      "execution_count": 7,
      "outputs": []
    },
    {
      "cell_type": "code",
      "source": [
        "num_matrices = 100\n",
        "matrix_size = 1000\n",
        "matrices=generate_random_matrices(num_matrices,matrix_size)"
      ],
      "metadata": {
        "id": "ARkC-s-AeXoj"
      },
      "execution_count": 8,
      "outputs": []
    },
    {
      "cell_type": "code",
      "source": [
        "constant_matrix = np.random.rand(matrix_size, matrix_size)"
      ],
      "metadata": {
        "id": "GC4OnNV8eZxx"
      },
      "execution_count": 9,
      "outputs": []
    },
    {
      "cell_type": "code",
      "source": [
        "results = {}\n",
        "for num_threads in range(1, num_cores + 1):\n",
        "    time_taken = perform_multiplication_with_threads(num_threads,matrices,constant_matrix)\n",
        "    results[num_threads] = time_taken"
      ],
      "metadata": {
        "id": "Ow0WmX4qecEZ"
      },
      "execution_count": 10,
      "outputs": []
    },
    {
      "cell_type": "code",
      "source": [
        "df = pd.DataFrame.from_dict(results, orient='index', columns=['Time Taken (s)'])\n",
        "df.index.name = 'Threads'\n",
        "df.reset_index(inplace=True)\n",
        "print(df)"
      ],
      "metadata": {
        "colab": {
          "base_uri": "https://localhost:8080/"
        },
        "id": "RjxeXF-peej1",
        "outputId": "1915bf07-2b27-4178-b30e-f697132c81f9"
      },
      "execution_count": 11,
      "outputs": [
        {
          "output_type": "stream",
          "name": "stdout",
          "text": [
            "   Threads  Time Taken (s)\n",
            "0        1        7.934169\n",
            "1        2        5.998452\n"
          ]
        }
      ]
    },
    {
      "cell_type": "code",
      "source": [
        "df2 = df.T.round(2)\n",
        "\n",
        "fig, ax = plt.subplots(figsize=(8,4))\n",
        "ax.axis('tight')\n",
        "ax.axis('off')\n",
        "ax.table(cellText=df2.values,colLabels=df2.columns,rowLabels=df2.index,loc='center')\n",
        "plt.savefig('No_of_threads_vs_time.png')\n",
        "plt.show()"
      ],
      "metadata": {
        "colab": {
          "base_uri": "https://localhost:8080/",
          "height": 345
        },
        "id": "AfiuzPMhejJX",
        "outputId": "a9cf9c83-5736-4560-c8a2-406acb754735"
      },
      "execution_count": 12,
      "outputs": [
        {
          "output_type": "display_data",
          "data": {
            "text/plain": [
              "<Figure size 800x400 with 1 Axes>"
            ],
            "image/png": "[encoded data removed]"
          },
          "metadata": {}
        }
      ]
    },
    {
      "cell_type": "code",
      "source": [
        "df.plot()\n",
        "plt.xlabel('Number of Threads')\n",
        "plt.ylabel('Time Taken (s)')\n",
        "plt.title('Time Taken vs Number of Threads')\n",
        "plt.show()"
      ],
      "metadata": {
        "colab": {
          "base_uri": "https://localhost:8080/",
          "height": 472
        },
        "id": "JP_t5fy9emNe",
        "outputId": "b5f7c337-e21c-45a1-c65f-64313ec638ed"
      },
      "execution_count": 13,
      "outputs": [
        {
          "output_type": "display_data",
          "data": {
            "text/plain": [
              "<Figure size 640x480 with 1 Axes>"
            ],
            "image/png": "[encoded data removed]"
          },
          "metadata": {}
        }
      ]
    },
    {
      "cell_type": "code",
      "source": [],
      "metadata": {
        "id": "2AhSnRPieo1s"
      },
      "execution_count": null,
      "outputs": []
    }
  ]
}